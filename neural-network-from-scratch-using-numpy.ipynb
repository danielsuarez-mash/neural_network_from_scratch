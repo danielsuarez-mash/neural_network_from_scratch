{
 "cells": [
  {
   "cell_type": "code",
   "execution_count": 1,
   "id": "ab9b420b",
   "metadata": {
    "_cell_guid": "a26fad5f-f1af-444e-ad63-1f3a5d532d42",
    "_uuid": "bde4861d-2939-449e-ba57-954c3a432086",
    "collapsed": false,
    "execution": {
     "iopub.execute_input": "2024-06-27T20:01:14.470612Z",
     "iopub.status.busy": "2024-06-27T20:01:14.469835Z",
     "iopub.status.idle": "2024-06-27T20:01:15.196393Z",
     "shell.execute_reply": "2024-06-27T20:01:15.195353Z"
    },
    "jupyter": {
     "outputs_hidden": false
    },
    "papermill": {
     "duration": 0.741844,
     "end_time": "2024-06-27T20:01:15.198609",
     "exception": false,
     "start_time": "2024-06-27T20:01:14.456765",
     "status": "completed"
    },
    "tags": []
   },
   "outputs": [
    {
     "name": "stdout",
     "output_type": "stream",
     "text": [
      "/kaggle/input/digit-recognizer/sample_submission.csv\n",
      "/kaggle/input/digit-recognizer/train.csv\n",
      "/kaggle/input/digit-recognizer/test.csv\n"
     ]
    }
   ],
   "source": [
    "# This Python 3 environment comes with many helpful analytics libraries installed\n",
    "# It is defined by the kaggle/python Docker image: https://github.com/kaggle/docker-python\n",
    "# For example, here's several helpful packages to load\n",
    "\n",
    "import numpy as np # linear algebra\n",
    "import pandas as pd # data processing, CSV file I/O (e.g. pd.read_csv)\n",
    "import matplotlib.pyplot as plt\n",
    "\n",
    "# Input data files are available in the read-only \"../input/\" directory\n",
    "# For example, running this (by clicking run or pressing Shift+Enter) will list all files under the input directory\n",
    "\n",
    "import os\n",
    "for dirname, _, filenames in os.walk('/kaggle/input'):\n",
    "    for filename in filenames:\n",
    "        print(os.path.join(dirname, filename))\n",
    "\n",
    "# You can write up to 20GB to the current directory (/kaggle/working/) that gets preserved as output when you create a version using \"Save & Run All\" \n",
    "# You can also write temporary files to /kaggle/temp/, but they won't be saved outside of the current session"
   ]
  },
  {
   "cell_type": "code",
   "execution_count": 2,
   "id": "35bf4a7b",
   "metadata": {
    "_cell_guid": "9990336a-5f62-4429-a4bf-d029862cbf86",
    "_uuid": "b68ecb2f-6d91-4860-98a2-33171f86bfbf",
    "collapsed": false,
    "execution": {
     "iopub.execute_input": "2024-06-27T20:01:15.222268Z",
     "iopub.status.busy": "2024-06-27T20:01:15.221887Z",
     "iopub.status.idle": "2024-06-27T20:01:20.741992Z",
     "shell.execute_reply": "2024-06-27T20:01:20.741148Z"
    },
    "jupyter": {
     "outputs_hidden": false
    },
    "papermill": {
     "duration": 5.534799,
     "end_time": "2024-06-27T20:01:20.744720",
     "exception": false,
     "start_time": "2024-06-27T20:01:15.209921",
     "status": "completed"
    },
    "tags": []
   },
   "outputs": [],
   "source": [
    "# read csv\n",
    "train = pd.read_csv('/kaggle/input/digit-recognizer/train.csv')\n",
    "test = pd.read_csv('/kaggle/input/digit-recognizer/test.csv')\n",
    "\n",
    "# get feature data\n",
    "X_train = train.drop(columns=['label']).transpose()\n",
    "\n",
    "# get target variables\n",
    "y_train = train['label']\n",
    "\n",
    "# convert to numpy arrays\n",
    "train = train.to_numpy()\n",
    "X_train = X_train.to_numpy()\n",
    "y_train = y_train.to_numpy()\n",
    "test = test.to_numpy().transpose()"
   ]
  },
  {
   "cell_type": "markdown",
   "id": "146a2084",
   "metadata": {
    "_cell_guid": "e63f5b9c-9943-49d1-b533-68c53277d987",
    "_uuid": "c233e976-0337-45d8-9075-163c42e4cdd8",
    "papermill": {
     "duration": 0.011036,
     "end_time": "2024-06-27T20:01:20.768084",
     "exception": false,
     "start_time": "2024-06-27T20:01:20.757048",
     "status": "completed"
    },
    "tags": []
   },
   "source": [
    "After recently completing Andrew Ng's course on Neural Networks and Deep Learning, I thought I'd implement what I've learned for this competition."
   ]
  },
  {
   "cell_type": "markdown",
   "id": "12e80579",
   "metadata": {
    "_cell_guid": "7b0e8fd6-ae06-4ed8-8074-19b06ac614bf",
    "_uuid": "c2d27908-bf34-46e4-88da-639276ed3b28",
    "papermill": {
     "duration": 0.011522,
     "end_time": "2024-06-27T20:01:20.790426",
     "exception": false,
     "start_time": "2024-06-27T20:01:20.778904",
     "status": "completed"
    },
    "tags": []
   },
   "source": [
    "# Neural network from scratch.\n",
    "\n",
    "The steps required to build and train a neural network are:\n",
    "\n",
    "1. Define layer architecture\n",
    "2. Initialise parameters\n",
    "3. Forward propagation\n",
    "4. Compute cost\n",
    "5. Backward propagation\n",
    "6. Update parameters"
   ]
  },
  {
   "cell_type": "markdown",
   "id": "e0ae6f0a",
   "metadata": {
    "_cell_guid": "f543a853-c177-4f32-a8ef-3b17c5d13b17",
    "_uuid": "f96f6124-d7f6-4518-baa9-b5c85a9cb747",
    "papermill": {
     "duration": 0.010713,
     "end_time": "2024-06-27T20:01:20.811989",
     "exception": false,
     "start_time": "2024-06-27T20:01:20.801276",
     "status": "completed"
    },
    "tags": []
   },
   "source": [
    "## 1. Define layer architecture\n",
    "\n",
    "Let's find out how large our input layer must be from the number of pixels in an image."
   ]
  },
  {
   "cell_type": "code",
   "execution_count": 3,
   "id": "ce227dc1",
   "metadata": {
    "_cell_guid": "7b4f45e5-cfe4-4d93-9bff-d35da245cf1a",
    "_uuid": "30d78262-3d89-44b3-921c-59b5e66b8d60",
    "collapsed": false,
    "execution": {
     "iopub.execute_input": "2024-06-27T20:01:20.835480Z",
     "iopub.status.busy": "2024-06-27T20:01:20.835080Z",
     "iopub.status.idle": "2024-06-27T20:01:20.841997Z",
     "shell.execute_reply": "2024-06-27T20:01:20.841144Z"
    },
    "jupyter": {
     "outputs_hidden": false
    },
    "papermill": {
     "duration": 0.021126,
     "end_time": "2024-06-27T20:01:20.844011",
     "exception": false,
     "start_time": "2024-06-27T20:01:20.822885",
     "status": "completed"
    },
    "tags": []
   },
   "outputs": [
    {
     "data": {
      "text/plain": [
       "784"
      ]
     },
     "execution_count": 3,
     "metadata": {},
     "output_type": "execute_result"
    }
   ],
   "source": [
    "X_train.shape[0]"
   ]
  },
  {
   "cell_type": "code",
   "execution_count": 4,
   "id": "2c22b3ac",
   "metadata": {
    "_cell_guid": "531ec1de-6de1-4d8b-8cd7-cbeaad9ddb54",
    "_uuid": "53de733d-fbf4-4c3e-b217-a208d1bffd85",
    "collapsed": false,
    "execution": {
     "iopub.execute_input": "2024-06-27T20:01:20.867250Z",
     "iopub.status.busy": "2024-06-27T20:01:20.866955Z",
     "iopub.status.idle": "2024-06-27T20:01:20.871018Z",
     "shell.execute_reply": "2024-06-27T20:01:20.870195Z"
    },
    "jupyter": {
     "outputs_hidden": false
    },
    "papermill": {
     "duration": 0.017845,
     "end_time": "2024-06-27T20:01:20.872876",
     "exception": false,
     "start_time": "2024-06-27T20:01:20.855031",
     "status": "completed"
    },
    "tags": []
   },
   "outputs": [],
   "source": [
    "layer_dims = [784, 20, 15, 10]"
   ]
  },
  {
   "cell_type": "markdown",
   "id": "54888732",
   "metadata": {
    "_cell_guid": "d09f9b0e-a35d-4b47-ae0c-56f3c1343843",
    "_uuid": "bb30d5fb-a695-4db8-a63a-87c7726cc5ba",
    "papermill": {
     "duration": 0.010834,
     "end_time": "2024-06-27T20:01:20.894797",
     "exception": false,
     "start_time": "2024-06-27T20:01:20.883963",
     "status": "completed"
    },
    "tags": []
   },
   "source": [
    "## 2. Initialise parameters"
   ]
  },
  {
   "cell_type": "code",
   "execution_count": 5,
   "id": "6d81bde6",
   "metadata": {
    "_cell_guid": "5154af37-410b-48a0-9fb3-930944c3297b",
    "_uuid": "560c84f8-61f6-4eec-8264-ad515f75cc2d",
    "collapsed": false,
    "execution": {
     "iopub.execute_input": "2024-06-27T20:01:20.918245Z",
     "iopub.status.busy": "2024-06-27T20:01:20.917696Z",
     "iopub.status.idle": "2024-06-27T20:01:20.923674Z",
     "shell.execute_reply": "2024-06-27T20:01:20.922930Z"
    },
    "jupyter": {
     "outputs_hidden": false
    },
    "papermill": {
     "duration": 0.019867,
     "end_time": "2024-06-27T20:01:20.925536",
     "exception": false,
     "start_time": "2024-06-27T20:01:20.905669",
     "status": "completed"
    },
    "tags": []
   },
   "outputs": [],
   "source": [
    "def initialise_parameters(layer_dims):\n",
    "    \n",
    "    # number of layers\n",
    "    L = len(layer_dims)\n",
    "    \n",
    "    # initialise params dictionary\n",
    "    parameters = dict()\n",
    "    \n",
    "    # cycle through layers and initialise parameters\n",
    "    for l in range(1, L):\n",
    "        parameters['W'+str(l)] = np.random.randn(layer_dims[l], layer_dims[l-1])*0.01\n",
    "        parameters['b'+str(l)] = np.zeros((layer_dims[l], 1))\n",
    "    \n",
    "    return parameters\n",
    "\n",
    "parameters = initialise_parameters(layer_dims)"
   ]
  },
  {
   "cell_type": "code",
   "execution_count": 6,
   "id": "a3bb7be1",
   "metadata": {
    "_cell_guid": "d713d5c1-4e11-450a-ab88-5d622fdbf7e8",
    "_uuid": "9f13e4d8-c3a5-46cd-85d0-ece917ba7aed",
    "collapsed": false,
    "execution": {
     "iopub.execute_input": "2024-06-27T20:01:20.949021Z",
     "iopub.status.busy": "2024-06-27T20:01:20.948335Z",
     "iopub.status.idle": "2024-06-27T20:01:20.952814Z",
     "shell.execute_reply": "2024-06-27T20:01:20.951989Z"
    },
    "jupyter": {
     "outputs_hidden": false
    },
    "papermill": {
     "duration": 0.01818,
     "end_time": "2024-06-27T20:01:20.954683",
     "exception": false,
     "start_time": "2024-06-27T20:01:20.936503",
     "status": "completed"
    },
    "tags": []
   },
   "outputs": [],
   "source": [
    "def linear_forward(A, W, b):\n",
    "    \n",
    "    Z = np.dot(W, A) + b\n",
    "\n",
    "    cache = (A, W, b)\n",
    "    return Z, cache"
   ]
  },
  {
   "cell_type": "code",
   "execution_count": 7,
   "id": "3ef3ed43",
   "metadata": {
    "_cell_guid": "f5130888-cd98-443d-a753-f31a0b2b5e6f",
    "_uuid": "c4049d36-362d-4d37-945f-6b82f4e0c8c1",
    "collapsed": false,
    "execution": {
     "iopub.execute_input": "2024-06-27T20:01:20.977789Z",
     "iopub.status.busy": "2024-06-27T20:01:20.977527Z",
     "iopub.status.idle": "2024-06-27T20:01:20.981541Z",
     "shell.execute_reply": "2024-06-27T20:01:20.980729Z"
    },
    "jupyter": {
     "outputs_hidden": false
    },
    "papermill": {
     "duration": 0.017831,
     "end_time": "2024-06-27T20:01:20.983370",
     "exception": false,
     "start_time": "2024-06-27T20:01:20.965539",
     "status": "completed"
    },
    "tags": []
   },
   "outputs": [],
   "source": [
    "def ReLU(Z):\n",
    "    \n",
    "    relu = np.maximum(0, Z)\n",
    "    \n",
    "    return relu"
   ]
  },
  {
   "cell_type": "code",
   "execution_count": 8,
   "id": "74178f59",
   "metadata": {
    "_cell_guid": "fbc7b2da-d22d-431d-8e9d-7d290deac4b7",
    "_uuid": "4baa629e-3f93-4ae4-863c-db7c75ef5c21",
    "collapsed": false,
    "execution": {
     "iopub.execute_input": "2024-06-27T20:01:21.006469Z",
     "iopub.status.busy": "2024-06-27T20:01:21.006163Z",
     "iopub.status.idle": "2024-06-27T20:01:21.010491Z",
     "shell.execute_reply": "2024-06-27T20:01:21.009635Z"
    },
    "jupyter": {
     "outputs_hidden": false
    },
    "papermill": {
     "duration": 0.018113,
     "end_time": "2024-06-27T20:01:21.012406",
     "exception": false,
     "start_time": "2024-06-27T20:01:20.994293",
     "status": "completed"
    },
    "tags": []
   },
   "outputs": [],
   "source": [
    "def sigmoid(Z):\n",
    "    \n",
    "    sigmoid = np.divide(1, 1+np.exp(-Z))\n",
    "    \n",
    "    return sigmoid"
   ]
  },
  {
   "cell_type": "code",
   "execution_count": 9,
   "id": "52e24481",
   "metadata": {
    "_cell_guid": "f4cf46b4-6b26-4afa-98a3-4e5a02ed674a",
    "_uuid": "8858bec3-8a06-4415-85dc-07e22ca2cfbc",
    "collapsed": false,
    "execution": {
     "iopub.execute_input": "2024-06-27T20:01:21.036070Z",
     "iopub.status.busy": "2024-06-27T20:01:21.035494Z",
     "iopub.status.idle": "2024-06-27T20:01:21.039994Z",
     "shell.execute_reply": "2024-06-27T20:01:21.039156Z"
    },
    "jupyter": {
     "outputs_hidden": false
    },
    "papermill": {
     "duration": 0.018354,
     "end_time": "2024-06-27T20:01:21.041899",
     "exception": false,
     "start_time": "2024-06-27T20:01:21.023545",
     "status": "completed"
    },
    "tags": []
   },
   "outputs": [],
   "source": [
    "# def softmax(Z):\n",
    "    \n",
    "#     softmax = np.exp(Z)/np.sum(np.sum(Z))\n",
    "    \n",
    "#     return softmax\n",
    "\n",
    "def softmax(Z):\n",
    "    expZ = np.exp(Z - np.max(Z))\n",
    "    return expZ / expZ.sum(axis=0, keepdims=True)"
   ]
  },
  {
   "cell_type": "code",
   "execution_count": 10,
   "id": "5579e466",
   "metadata": {
    "_cell_guid": "59d4eeb2-ac31-4632-a9f7-2419b8416f01",
    "_uuid": "43a89086-8f5b-4527-8f88-a67aa8947704",
    "collapsed": false,
    "execution": {
     "iopub.execute_input": "2024-06-27T20:01:21.064873Z",
     "iopub.status.busy": "2024-06-27T20:01:21.064587Z",
     "iopub.status.idle": "2024-06-27T20:01:21.069833Z",
     "shell.execute_reply": "2024-06-27T20:01:21.069021Z"
    },
    "jupyter": {
     "outputs_hidden": false
    },
    "papermill": {
     "duration": 0.018975,
     "end_time": "2024-06-27T20:01:21.071826",
     "exception": false,
     "start_time": "2024-06-27T20:01:21.052851",
     "status": "completed"
    },
    "tags": []
   },
   "outputs": [],
   "source": [
    "def linear_activation_forward(A_prev, W, b, activation):\n",
    "    \n",
    "    # compute Z\n",
    "    Z, linear_cache = linear_forward(A_prev, W, b)\n",
    "        \n",
    "    # compute A\n",
    "    if activation == 'relu':\n",
    "        A = ReLU(Z)\n",
    "    elif activation == 'sigmoid':\n",
    "        A = sigmoid(Z)\n",
    "    elif activation == 'softmax':\n",
    "        A = softmax(Z)\n",
    "    \n",
    "    # caches\n",
    "    activation_cache = Z\n",
    "    cache = (linear_cache, activation_cache)\n",
    "    \n",
    "    return A, cache"
   ]
  },
  {
   "cell_type": "code",
   "execution_count": 11,
   "id": "6cc1b275",
   "metadata": {
    "_cell_guid": "83b71c3c-e5e9-42d1-86b0-e0a6d563511b",
    "_uuid": "034bc7bd-2d94-425d-9abe-4885135247ae",
    "collapsed": false,
    "execution": {
     "iopub.execute_input": "2024-06-27T20:01:21.094989Z",
     "iopub.status.busy": "2024-06-27T20:01:21.094693Z",
     "iopub.status.idle": "2024-06-27T20:01:21.233295Z",
     "shell.execute_reply": "2024-06-27T20:01:21.231751Z"
    },
    "jupyter": {
     "outputs_hidden": false
    },
    "papermill": {
     "duration": 0.154525,
     "end_time": "2024-06-27T20:01:21.237301",
     "exception": false,
     "start_time": "2024-06-27T20:01:21.082776",
     "status": "completed"
    },
    "tags": []
   },
   "outputs": [],
   "source": [
    "# testing\n",
    "parameters = initialise_parameters(layer_dims)\n",
    "A, cache = linear_activation_forward(X_train, parameters['W1'], parameters['b1'], activation='softmax')"
   ]
  },
  {
   "cell_type": "code",
   "execution_count": 12,
   "id": "25c272a2",
   "metadata": {
    "_cell_guid": "fbf03092-5b56-4a66-a7c4-f36e313fb643",
    "_uuid": "d9fd0623-a911-4467-a790-8171d8794c66",
    "collapsed": false,
    "execution": {
     "iopub.execute_input": "2024-06-27T20:01:21.291474Z",
     "iopub.status.busy": "2024-06-27T20:01:21.290783Z",
     "iopub.status.idle": "2024-06-27T20:01:21.304261Z",
     "shell.execute_reply": "2024-06-27T20:01:21.303123Z"
    },
    "jupyter": {
     "outputs_hidden": false
    },
    "papermill": {
     "duration": 0.046965,
     "end_time": "2024-06-27T20:01:21.307931",
     "exception": false,
     "start_time": "2024-06-27T20:01:21.260966",
     "status": "completed"
    },
    "tags": []
   },
   "outputs": [],
   "source": [
    "def l_model_forward(X, parameters):\n",
    "    \"\"\"\n",
    "    Implement forward propagation for the [LINEAR->RELU]*(L-1)->LINEAR->SIGMOID computation\n",
    "    \n",
    "    Arguments:\n",
    "    X -- data, numpy array of shape (input size, number of examples)\n",
    "    parameters -- output of initialize_parameters_deep()\n",
    "    \n",
    "    Returns:\n",
    "    AL -- activation value from the output (last) layer\n",
    "    caches -- list of caches containing:\n",
    "                every cache of linear_activation_forward() (there are L of them, indexed from 0 to L-1)\n",
    "    \"\"\"\n",
    "    \n",
    "    # find number of layers\n",
    "    L = len(parameters)//2\n",
    "    \n",
    "    # get ready to capture all caches from each layer\n",
    "    caches = []\n",
    "    \n",
    "    # initialise A_prev as X\n",
    "    A_prev = X\n",
    "    \n",
    "    # forward propagation for layers (aside from last)\n",
    "    for l in range(1, L):\n",
    "        \n",
    "        # compute forward linear activation\n",
    "        A, cache = linear_activation_forward(A_prev, parameters['W'+str(l)], parameters['b'+str(l)], activation='relu')\n",
    "\n",
    "        # reset A_prev\n",
    "        A_prev = A\n",
    "        \n",
    "        caches.append(cache)\n",
    "    \n",
    "    # forward propagation for last layer\n",
    "    AL, cache = linear_activation_forward(A_prev, parameters['W'+str(L)], parameters['b'+str(L)], activation='softmax')\n",
    "    caches.append(cache)\n",
    "    \n",
    "    return AL, caches"
   ]
  },
  {
   "cell_type": "code",
   "execution_count": 13,
   "id": "71be33e4",
   "metadata": {
    "_cell_guid": "9465b078-62c5-4e38-b5f4-9343b4b7e4f0",
    "_uuid": "79b60d27-2814-4b3b-9d17-5078ccc19a3d",
    "collapsed": false,
    "execution": {
     "iopub.execute_input": "2024-06-27T20:01:21.355953Z",
     "iopub.status.busy": "2024-06-27T20:01:21.355627Z",
     "iopub.status.idle": "2024-06-27T20:01:21.363417Z",
     "shell.execute_reply": "2024-06-27T20:01:21.362321Z"
    },
    "jupyter": {
     "outputs_hidden": false
    },
    "papermill": {
     "duration": 0.033248,
     "end_time": "2024-06-27T20:01:21.365326",
     "exception": false,
     "start_time": "2024-06-27T20:01:21.332078",
     "status": "completed"
    },
    "tags": []
   },
   "outputs": [
    {
     "data": {
      "text/plain": [
       "(10, 1)"
      ]
     },
     "execution_count": 13,
     "metadata": {},
     "output_type": "execute_result"
    }
   ],
   "source": [
    "AL, caches = l_model_forward(X_train[:, [0]], parameters)\n",
    "AL.shape"
   ]
  },
  {
   "cell_type": "code",
   "execution_count": 14,
   "id": "c5925910",
   "metadata": {
    "_cell_guid": "0c63d23b-669b-4801-8d6a-58037f490f24",
    "_uuid": "6b425b0a-51a6-47d9-942b-99d683503840",
    "collapsed": false,
    "execution": {
     "iopub.execute_input": "2024-06-27T20:01:21.407413Z",
     "iopub.status.busy": "2024-06-27T20:01:21.406835Z",
     "iopub.status.idle": "2024-06-27T20:01:21.413475Z",
     "shell.execute_reply": "2024-06-27T20:01:21.412545Z"
    },
    "jupyter": {
     "outputs_hidden": false
    },
    "papermill": {
     "duration": 0.035318,
     "end_time": "2024-06-27T20:01:21.417097",
     "exception": false,
     "start_time": "2024-06-27T20:01:21.381779",
     "status": "completed"
    },
    "tags": []
   },
   "outputs": [],
   "source": [
    "def onehot_encoder(array):\n",
    "    \n",
    "    ohe = np.zeros((len(array), array.max()+1))\n",
    "    ohe[np.arange(len(array)), array] = 1\n",
    "    ohe = ohe.transpose()\n",
    "    \n",
    "    return ohe"
   ]
  },
  {
   "cell_type": "code",
   "execution_count": 15,
   "id": "5d1ee750",
   "metadata": {
    "_cell_guid": "fc3e414e-bfb1-4590-a4f7-99255e46b3c4",
    "_uuid": "309754f0-881b-4370-943d-a65a13f77485",
    "collapsed": false,
    "execution": {
     "iopub.execute_input": "2024-06-27T20:01:21.466036Z",
     "iopub.status.busy": "2024-06-27T20:01:21.465566Z",
     "iopub.status.idle": "2024-06-27T20:01:21.473086Z",
     "shell.execute_reply": "2024-06-27T20:01:21.471946Z"
    },
    "jupyter": {
     "outputs_hidden": false
    },
    "papermill": {
     "duration": 0.038309,
     "end_time": "2024-06-27T20:01:21.478986",
     "exception": false,
     "start_time": "2024-06-27T20:01:21.440677",
     "status": "completed"
    },
    "tags": []
   },
   "outputs": [],
   "source": [
    "def compute_cost(AL, y):\n",
    "    \n",
    "    # one hot encode y\n",
    "    y_ohe = onehot_encoder(y)\n",
    "    \n",
    "    # number of examples\n",
    "    m = len(y)\n",
    "    \n",
    "    # categorical cross-entropy loss function\n",
    "    cost = (-1/m) * np.sum(y_ohe * np.log(AL))\n",
    "    \n",
    "    return cost"
   ]
  },
  {
   "cell_type": "code",
   "execution_count": 16,
   "id": "919aabfc",
   "metadata": {
    "_cell_guid": "1812963f-5cd9-4388-92c5-ea77a9d95000",
    "_uuid": "a4de3529-3b0b-4c4b-83e6-b6ccc1bf8bba",
    "collapsed": false,
    "execution": {
     "iopub.execute_input": "2024-06-27T20:01:21.509111Z",
     "iopub.status.busy": "2024-06-27T20:01:21.508852Z",
     "iopub.status.idle": "2024-06-27T20:01:21.517150Z",
     "shell.execute_reply": "2024-06-27T20:01:21.516278Z"
    },
    "jupyter": {
     "outputs_hidden": false
    },
    "papermill": {
     "duration": 0.022162,
     "end_time": "2024-06-27T20:01:21.519066",
     "exception": false,
     "start_time": "2024-06-27T20:01:21.496904",
     "status": "completed"
    },
    "tags": []
   },
   "outputs": [
    {
     "data": {
      "text/plain": [
       "2.3027017219382215"
      ]
     },
     "execution_count": 16,
     "metadata": {},
     "output_type": "execute_result"
    }
   ],
   "source": [
    "compute_cost(AL, y_train)"
   ]
  },
  {
   "cell_type": "code",
   "execution_count": 17,
   "id": "c24dc375",
   "metadata": {
    "execution": {
     "iopub.execute_input": "2024-06-27T20:01:21.543230Z",
     "iopub.status.busy": "2024-06-27T20:01:21.542957Z",
     "iopub.status.idle": "2024-06-27T20:01:21.546986Z",
     "shell.execute_reply": "2024-06-27T20:01:21.546188Z"
    },
    "papermill": {
     "duration": 0.018152,
     "end_time": "2024-06-27T20:01:21.549013",
     "exception": false,
     "start_time": "2024-06-27T20:01:21.530861",
     "status": "completed"
    },
    "tags": []
   },
   "outputs": [],
   "source": [
    "def get_predictions(AL):\n",
    "    predictions = np.argmax(AL, 0)\n",
    "    return predictions"
   ]
  },
  {
   "cell_type": "code",
   "execution_count": 18,
   "id": "ec829ca8",
   "metadata": {
    "execution": {
     "iopub.execute_input": "2024-06-27T20:01:21.572392Z",
     "iopub.status.busy": "2024-06-27T20:01:21.572109Z",
     "iopub.status.idle": "2024-06-27T20:01:21.578433Z",
     "shell.execute_reply": "2024-06-27T20:01:21.577583Z"
    },
    "papermill": {
     "duration": 0.020124,
     "end_time": "2024-06-27T20:01:21.580288",
     "exception": false,
     "start_time": "2024-06-27T20:01:21.560164",
     "status": "completed"
    },
    "tags": []
   },
   "outputs": [
    {
     "data": {
      "text/plain": [
       "array([5])"
      ]
     },
     "execution_count": 18,
     "metadata": {},
     "output_type": "execute_result"
    }
   ],
   "source": [
    "predictions = get_predictions(AL)\n",
    "predictions"
   ]
  },
  {
   "cell_type": "code",
   "execution_count": 19,
   "id": "586acf1c",
   "metadata": {
    "execution": {
     "iopub.execute_input": "2024-06-27T20:01:21.604283Z",
     "iopub.status.busy": "2024-06-27T20:01:21.604019Z",
     "iopub.status.idle": "2024-06-27T20:01:21.608426Z",
     "shell.execute_reply": "2024-06-27T20:01:21.607528Z"
    },
    "papermill": {
     "duration": 0.018852,
     "end_time": "2024-06-27T20:01:21.610409",
     "exception": false,
     "start_time": "2024-06-27T20:01:21.591557",
     "status": "completed"
    },
    "tags": []
   },
   "outputs": [],
   "source": [
    "def compute_accuracy(predictions, Y):\n",
    "    \n",
    "    accuracy = np.sum(predictions==Y)/Y.size\n",
    "    \n",
    "    return accuracy"
   ]
  },
  {
   "cell_type": "code",
   "execution_count": 20,
   "id": "8f1a50fc",
   "metadata": {
    "_cell_guid": "7f244b2c-da8c-4be4-b214-df61f4d446b5",
    "_uuid": "79bf37d2-2461-4f12-bd37-d3c4a128c0aa",
    "collapsed": false,
    "execution": {
     "iopub.execute_input": "2024-06-27T20:01:21.633830Z",
     "iopub.status.busy": "2024-06-27T20:01:21.633583Z",
     "iopub.status.idle": "2024-06-27T20:01:21.638685Z",
     "shell.execute_reply": "2024-06-27T20:01:21.637858Z"
    },
    "jupyter": {
     "outputs_hidden": false
    },
    "papermill": {
     "duration": 0.018904,
     "end_time": "2024-06-27T20:01:21.640491",
     "exception": false,
     "start_time": "2024-06-27T20:01:21.621587",
     "status": "completed"
    },
    "tags": []
   },
   "outputs": [],
   "source": [
    "def linear_backward(dZ, cache):\n",
    "    \n",
    "    A_prev, W, b = cache\n",
    "    m = A_prev.shape[1]\n",
    "    \n",
    "    dA_prev = np.dot(W.T, dZ)\n",
    "    dW = (1/m)*np.dot(dZ, A_prev.T)\n",
    "    db = (1/m)*np.sum(dZ, axis=1, keepdims=True)\n",
    "    \n",
    "    return dA_prev, dW, db"
   ]
  },
  {
   "cell_type": "code",
   "execution_count": 21,
   "id": "6d03736d",
   "metadata": {
    "_cell_guid": "fbf2aef5-540f-424a-bfea-6d98b368478d",
    "_uuid": "87e3b7e1-4f34-407b-b1c4-34f3a9063c70",
    "collapsed": false,
    "execution": {
     "iopub.execute_input": "2024-06-27T20:01:21.663961Z",
     "iopub.status.busy": "2024-06-27T20:01:21.663716Z",
     "iopub.status.idle": "2024-06-27T20:01:21.670169Z",
     "shell.execute_reply": "2024-06-27T20:01:21.669342Z"
    },
    "jupyter": {
     "outputs_hidden": false
    },
    "papermill": {
     "duration": 0.020411,
     "end_time": "2024-06-27T20:01:21.672030",
     "exception": false,
     "start_time": "2024-06-27T20:01:21.651619",
     "status": "completed"
    },
    "tags": []
   },
   "outputs": [],
   "source": [
    "def linear_activation_backward(dA, cache, Y, activation_function):\n",
    "    \n",
    "    linear_cache, activation_cache = cache\n",
    "    Z = activation_cache\n",
    "    \n",
    "    # calculation depends on activation function\n",
    "    if activation_function=='sigmoid':\n",
    "        \n",
    "        dZ = dA * (sigmoid(Z)*(1-sigmoid(Z)))\n",
    "        dA_prev, dW, db = linear_backward(dZ, linear_cache)\n",
    "        \n",
    "    elif activation_function=='softmax':\n",
    "        \n",
    "        dZ = softmax(Z) - Y\n",
    "        dA_prev, dW, db = linear_backward(dZ, linear_cache)\n",
    "        \n",
    "    elif activation_function=='relu':\n",
    "        \n",
    "        dZ = np.array(dA, copy=True)\n",
    "        dZ[Z <= 0] = 0\n",
    "        dA_prev, dW, db = linear_backward(dZ, linear_cache)\n",
    "        \n",
    "    return dA_prev, dW, db"
   ]
  },
  {
   "cell_type": "code",
   "execution_count": 22,
   "id": "b5ff3735",
   "metadata": {
    "_cell_guid": "95459881-d7e8-4b98-ab01-14de00c8eb3e",
    "_uuid": "01fd2c32-4ac0-4f9f-a1c3-a8eeff5bff9d",
    "collapsed": false,
    "execution": {
     "iopub.execute_input": "2024-06-27T20:01:21.695603Z",
     "iopub.status.busy": "2024-06-27T20:01:21.695360Z",
     "iopub.status.idle": "2024-06-27T20:01:21.703283Z",
     "shell.execute_reply": "2024-06-27T20:01:21.702480Z"
    },
    "jupyter": {
     "outputs_hidden": false
    },
    "papermill": {
     "duration": 0.021775,
     "end_time": "2024-06-27T20:01:21.705119",
     "exception": false,
     "start_time": "2024-06-27T20:01:21.683344",
     "status": "completed"
    },
    "tags": []
   },
   "outputs": [],
   "source": [
    "def l_model_backward(AL, Y, caches):\n",
    "    \"\"\"\n",
    "    Implement the backward propagation for the [LINEAR->RELU] * (L-1) -> LINEAR -> SIGMOID group\n",
    "    \n",
    "    Arguments:\n",
    "    AL -- probability vector, output of the forward propagation (L_model_forward())\n",
    "    Y -- true \"label\" vector (containing 0 if non-cat, 1 if cat)\n",
    "    caches -- list of caches containing:\n",
    "                every cache of linear_activation_forward() with \"relu\" (it's caches[l], for l in range(L-1) i.e l = 0...L-2)\n",
    "                the cache of linear_activation_forward() with \"sigmoid\" (it's caches[L-1])\n",
    "    \n",
    "    Returns:\n",
    "    grads -- A dictionary with the gradients\n",
    "             grads[\"dA\" + str(l)] = ... \n",
    "             grads[\"dW\" + str(l)] = ... \n",
    "             grads[\"db\" + str(l)] = ... \n",
    "    \"\"\"\n",
    "    \n",
    "    # number of layers\n",
    "    L = len(caches)\n",
    "    \n",
    "    # gradient storage\n",
    "    grads = dict()    \n",
    "    \n",
    "    # one hot encode y\n",
    "    Y_ohe = onehot_encoder(Y)\n",
    "    \n",
    "    # initiate backward propagation\n",
    "#     print('Y:',Y_ohe)\n",
    "#     print('AL:', AL)\n",
    "    dAL = -np.divide(Y_ohe, AL) + np.divide(1-Y_ohe, 1-AL)\n",
    "    \n",
    "    # propagate backwards through last layer separately (as it has a different activation function)\n",
    "    current_cache = caches[L-1]\n",
    "#     print('layer:', L)\n",
    "    grads['dA'+str(L-1)], grads['dW'+str(L)], grads['db'+str(L)] = linear_activation_backward(dAL, current_cache, Y_ohe, activation_function='softmax')\n",
    "    \n",
    "    # cycle through layers in reverse\n",
    "    for l in reversed(range(1, L)):\n",
    "        current_cache = caches[l-1]\n",
    "#         print('layer:', l)\n",
    "        grads['dA'+str(l-1)], grads['dW'+str(l)], grads['db'+str(l)] = linear_activation_backward(grads['dA'+str(l)], current_cache, Y_ohe, activation_function='relu')\n",
    "        \n",
    "    return grads"
   ]
  },
  {
   "cell_type": "code",
   "execution_count": 23,
   "id": "baf16a5f",
   "metadata": {
    "_cell_guid": "40c97b9d-7983-4bba-9db5-416cf4a9984d",
    "_uuid": "a18fe695-1bfd-4d47-be03-7b1b597570f0",
    "collapsed": false,
    "execution": {
     "iopub.execute_input": "2024-06-27T20:01:21.730290Z",
     "iopub.status.busy": "2024-06-27T20:01:21.729646Z",
     "iopub.status.idle": "2024-06-27T20:01:21.735171Z",
     "shell.execute_reply": "2024-06-27T20:01:21.734373Z"
    },
    "jupyter": {
     "outputs_hidden": false
    },
    "papermill": {
     "duration": 0.019658,
     "end_time": "2024-06-27T20:01:21.737047",
     "exception": false,
     "start_time": "2024-06-27T20:01:21.717389",
     "status": "completed"
    },
    "tags": []
   },
   "outputs": [],
   "source": [
    "def update_parameters(params, grads, learning_rate):\n",
    "    \n",
    "    L = len(params)//2\n",
    "        \n",
    "    # cycle through each layer and change parameters\n",
    "    for l in range(1, L+1):\n",
    "        params['W'+str(l)] = params['W'+str(l)] - learning_rate * grads['dW'+str(l)]\n",
    "        params['b'+str(l)] = params['b'+str(l)] - learning_rate * grads['db'+str(l)]\n",
    "        \n",
    "    return params"
   ]
  },
  {
   "cell_type": "code",
   "execution_count": 24,
   "id": "4ece3d40",
   "metadata": {
    "_cell_guid": "3a9ef6f1-8624-41ab-8495-62728a6b775c",
    "_uuid": "03a5d750-7c50-420a-a606-3efd17e5f2e1",
    "collapsed": false,
    "execution": {
     "iopub.execute_input": "2024-06-27T20:01:21.760828Z",
     "iopub.status.busy": "2024-06-27T20:01:21.760257Z",
     "iopub.status.idle": "2024-06-27T20:01:21.767843Z",
     "shell.execute_reply": "2024-06-27T20:01:21.767016Z"
    },
    "jupyter": {
     "outputs_hidden": false
    },
    "papermill": {
     "duration": 0.021553,
     "end_time": "2024-06-27T20:01:21.769717",
     "exception": false,
     "start_time": "2024-06-27T20:01:21.748164",
     "status": "completed"
    },
    "tags": []
   },
   "outputs": [],
   "source": [
    "def l_layer_model(X, Y, layers_dim, learning_rate=0.001, num_iterations=100, print_cost=True):\n",
    "    \"\"\"\n",
    "    Implements a L-layer neural network: [LINEAR->RELU]*(L-1)->LINEAR->SIGMOID.\n",
    "    \n",
    "    Arguments:\n",
    "    X -- input data, of shape (n_x, number of examples)\n",
    "    Y -- true \"label\" vector (containing 1 if cat, 0 if non-cat), of shape (1, number of examples)\n",
    "    layers_dims -- list containing the input size and each layer size, of length (number of layers + 1).\n",
    "    learning_rate -- learning rate of the gradient descent update rule\n",
    "    num_iterations -- number of iterations of the optimization loop\n",
    "    print_cost -- if True, it prints the cost every 100 steps\n",
    "    \n",
    "    Returns:\n",
    "    parameters -- parameters learnt by the model. They can then be used to predict.\n",
    "    \"\"\"\n",
    "    \n",
    "    # initialise parameters\n",
    "    params = initialise_parameters(layers_dim)\n",
    "#     print('Initial W3:', params['W3'], params['W3'].shape)\n",
    "\n",
    "    # repeat for number of iterations\n",
    "    for i in range(0, num_iterations):\n",
    "\n",
    "        # forward propagation\n",
    "        AL, caches = l_model_forward(X, params)\n",
    "\n",
    "        # compute cost - TRY REPLACING WITH PYTORTH EQUIVALENT\n",
    "        cost = compute_cost(AL, Y)\n",
    "\n",
    "        # backward propagation\n",
    "        grads = l_model_backward(AL, Y, caches)\n",
    "#         print(grads)\n",
    "        \n",
    "        # update parameters\n",
    "        params = update_parameters(params, grads, learning_rate)\n",
    "#         print(params)\n",
    "                \n",
    "        # get predictions\n",
    "        predictions = get_predictions(AL)\n",
    "        accuracy = compute_accuracy(predictions, Y)\n",
    "        # print cost if required\n",
    "        if print_cost==True and i%10==0:\n",
    "            print('Iteration',i,'- cost:', cost)\n",
    "            print('Accuracy:', accuracy)\n",
    "    \n",
    "    return params"
   ]
  },
  {
   "cell_type": "code",
   "execution_count": 25,
   "id": "e6205120",
   "metadata": {
    "_cell_guid": "656ea5bd-9909-4717-90ca-56b2d139eda7",
    "_uuid": "6c8010b6-f81d-4b28-bcea-ce543ba66e5e",
    "execution": {
     "iopub.execute_input": "2024-06-27T20:01:21.793133Z",
     "iopub.status.busy": "2024-06-27T20:01:21.792885Z",
     "iopub.status.idle": "2024-06-27T20:02:11.150084Z",
     "shell.execute_reply": "2024-06-27T20:02:11.148718Z"
    },
    "papermill": {
     "duration": 49.37328,
     "end_time": "2024-06-27T20:02:11.154160",
     "exception": false,
     "start_time": "2024-06-27T20:01:21.780880",
     "status": "completed"
    },
    "tags": []
   },
   "outputs": [
    {
     "name": "stdout",
     "output_type": "stream",
     "text": [
      "Iteration 0 - cost: 2.729793842588716\n",
      "Accuracy: 0.10130952380952381\n",
      "Iteration 10 - cost: 1.7608385498674421\n",
      "Accuracy: 0.4613333333333333\n",
      "Iteration 20 - cost: 1.2410026947715793\n",
      "Accuracy: 0.6189761904761905\n",
      "Iteration 30 - cost: 0.9624018381877896\n",
      "Accuracy: 0.7011190476190476\n",
      "Iteration 40 - cost: 0.8174791113380738\n",
      "Accuracy: 0.7442857142857143\n",
      "Iteration 50 - cost: 0.7252092907302768\n",
      "Accuracy: 0.7732380952380953\n",
      "Iteration 60 - cost: 0.657986722683986\n",
      "Accuracy: 0.796\n",
      "Iteration 70 - cost: 0.6059315725821766\n",
      "Accuracy: 0.8133571428571429\n",
      "Iteration 80 - cost: 0.5647108511524711\n",
      "Accuracy: 0.8284285714285714\n",
      "Iteration 90 - cost: 0.5361741584584978\n",
      "Accuracy: 0.8372142857142857\n"
     ]
    }
   ],
   "source": [
    "model_params = l_layer_model(X_train, y_train, [784, 15, 10])"
   ]
  },
  {
   "cell_type": "code",
   "execution_count": 26,
   "id": "7dc8892b",
   "metadata": {
    "_cell_guid": "fbc7c220-4736-4de5-9d7f-794fefb411a3",
    "_uuid": "b26cd072-6ae9-4f23-8296-ec1485ea42f3",
    "collapsed": false,
    "execution": {
     "iopub.execute_input": "2024-06-27T20:02:11.208999Z",
     "iopub.status.busy": "2024-06-27T20:02:11.208292Z",
     "iopub.status.idle": "2024-06-27T20:02:11.221253Z",
     "shell.execute_reply": "2024-06-27T20:02:11.219938Z"
    },
    "jupyter": {
     "outputs_hidden": false
    },
    "papermill": {
     "duration": 0.04357,
     "end_time": "2024-06-27T20:02:11.224547",
     "exception": false,
     "start_time": "2024-06-27T20:02:11.180977",
     "status": "completed"
    },
    "tags": []
   },
   "outputs": [],
   "source": [
    "def predict(X, parameters):\n",
    "    \n",
    "    # get scores after forward prop\n",
    "    AL, _ = l_model_forward(X, parameters)\n",
    "    \n",
    "    # get predictions\n",
    "    predictions = get_predictions(AL)\n",
    "    \n",
    "    return predictions\n",
    "\n",
    "def test_prediction(index, parameters):\n",
    "    \n",
    "    # get prediction for example\n",
    "    prediction = predict(X_train[:, [index]], parameters)\n",
    "    \n",
    "    # get label\n",
    "    label = y_train[index]\n",
    "    \n",
    "    # show image\n",
    "    plt.imshow(X_train[:, [index]].reshape(28, 28))\n",
    "    print('Label:', label)\n",
    "    print('Prediction:', prediction)\n",
    "    "
   ]
  },
  {
   "cell_type": "code",
   "execution_count": 27,
   "id": "ba890c0c",
   "metadata": {
    "_cell_guid": "4bb5359c-e8ee-4e16-bbaa-89243a5097f8",
    "_uuid": "848e52ef-a83c-4848-8a2b-44a187f9ddc6",
    "execution": {
     "iopub.execute_input": "2024-06-27T20:02:11.274931Z",
     "iopub.status.busy": "2024-06-27T20:02:11.274620Z",
     "iopub.status.idle": "2024-06-27T20:02:11.281992Z",
     "shell.execute_reply": "2024-06-27T20:02:11.280822Z"
    },
    "papermill": {
     "duration": 0.035095,
     "end_time": "2024-06-27T20:02:11.285717",
     "exception": false,
     "start_time": "2024-06-27T20:02:11.250622",
     "status": "completed"
    },
    "tags": []
   },
   "outputs": [
    {
     "data": {
      "text/plain": [
       "array([9])"
      ]
     },
     "execution_count": 27,
     "metadata": {},
     "output_type": "execute_result"
    }
   ],
   "source": [
    "predict(X_train[:, [100]], model_params)"
   ]
  },
  {
   "cell_type": "code",
   "execution_count": 28,
   "id": "1c1240ce",
   "metadata": {
    "execution": {
     "iopub.execute_input": "2024-06-27T20:02:11.342228Z",
     "iopub.status.busy": "2024-06-27T20:02:11.341511Z",
     "iopub.status.idle": "2024-06-27T20:02:11.640182Z",
     "shell.execute_reply": "2024-06-27T20:02:11.639350Z"
    },
    "papermill": {
     "duration": 0.329133,
     "end_time": "2024-06-27T20:02:11.642252",
     "exception": false,
     "start_time": "2024-06-27T20:02:11.313119",
     "status": "completed"
    },
    "tags": []
   },
   "outputs": [
    {
     "name": "stdout",
     "output_type": "stream",
     "text": [
      "Label: 1\n",
      "Prediction: [1]\n"
     ]
    },
    {
     "data": {
      "image/png": "[encoded data removed]",
      "text/plain": [
       "<Figure size 640x480 with 1 Axes>"
      ]
     },
     "metadata": {},
     "output_type": "display_data"
    }
   ],
   "source": [
    "test_prediction(590, model_params)"
   ]
  },
  {
   "cell_type": "markdown",
   "id": "76bbf660",
   "metadata": {
    "papermill": {
     "duration": 0.012236,
     "end_time": "2024-06-27T20:02:11.667214",
     "exception": false,
     "start_time": "2024-06-27T20:02:11.654978",
     "status": "completed"
    },
    "tags": []
   },
   "source": [
    "# Hyperparameter tuning"
   ]
  },
  {
   "cell_type": "code",
   "execution_count": 29,
   "id": "c65f0c87",
   "metadata": {
    "execution": {
     "iopub.execute_input": "2024-06-27T20:02:11.693601Z",
     "iopub.status.busy": "2024-06-27T20:02:11.692896Z",
     "iopub.status.idle": "2024-06-27T20:02:12.096261Z",
     "shell.execute_reply": "2024-06-27T20:02:12.095159Z"
    },
    "papermill": {
     "duration": 0.419561,
     "end_time": "2024-06-27T20:02:12.099160",
     "exception": false,
     "start_time": "2024-06-27T20:02:11.679599",
     "status": "completed"
    },
    "tags": []
   },
   "outputs": [],
   "source": [
    "np.random.seed(42)\n",
    "\n",
    "# shuffle dataset\n",
    "indices = np.arange(train.shape[0])\n",
    "np.random.shuffle(indices)\n",
    "train_shuffled = train[indices]\n",
    "\n",
    "# validation ratio\n",
    "validation_ratio = 0.2\n",
    "\n",
    "# split index\n",
    "split_index = int(train_shuffled.shape[0]*(1-validation_ratio))\n",
    "\n",
    "# split data\n",
    "train_split = train_shuffled[:split_index]\n",
    "validation_split = train_shuffled[split_index:]\n",
    "\n",
    "# split features and target variable\n",
    "X_train = train_split[:,1:].transpose()\n",
    "y_train = train_split[:,0].transpose()\n",
    "X_val = validation_split[:,1:].transpose()\n",
    "y_val = validation_split[:,0].transpose()"
   ]
  },
  {
   "cell_type": "code",
   "execution_count": 30,
   "id": "657c2b8f",
   "metadata": {
    "execution": {
     "iopub.execute_input": "2024-06-27T20:02:12.176236Z",
     "iopub.status.busy": "2024-06-27T20:02:12.175880Z",
     "iopub.status.idle": "2024-06-27T20:02:12.181411Z",
     "shell.execute_reply": "2024-06-27T20:02:12.180457Z"
    },
    "papermill": {
     "duration": 0.065631,
     "end_time": "2024-06-27T20:02:12.183358",
     "exception": false,
     "start_time": "2024-06-27T20:02:12.117727",
     "status": "completed"
    },
    "tags": []
   },
   "outputs": [],
   "source": [
    "# hyperparameter space\n",
    "parameter_grid = {\n",
    "    'layer_dims':[\n",
    "                [784, 15, 10], # small nn\n",
    "                [784, 20, 15, 10], # medium nn\n",
    "                [784, 50, 25, 15, 10] # large nn\n",
    "    ], \n",
    "    'learning_rate':[0.01, 0.001],\n",
    "    'num_iterations':[250, 100]\n",
    "}"
   ]
  },
  {
   "cell_type": "code",
   "execution_count": 31,
   "id": "07f033a4",
   "metadata": {
    "execution": {
     "iopub.execute_input": "2024-06-27T20:02:12.210063Z",
     "iopub.status.busy": "2024-06-27T20:02:12.209785Z",
     "iopub.status.idle": "2024-06-27T20:18:17.944324Z",
     "shell.execute_reply": "2024-06-27T20:18:17.943076Z"
    },
    "papermill": {
     "duration": 965.751752,
     "end_time": "2024-06-27T20:18:17.947875",
     "exception": false,
     "start_time": "2024-06-27T20:02:12.196123",
     "status": "completed"
    },
    "tags": []
   },
   "outputs": [
    {
     "name": "stdout",
     "output_type": "stream",
     "text": [
      "{'layer_dims': [784, 15, 10], 'learning_rate': 0.01, 'num_iterations': 250}\n",
      "Iteration 0 - cost: 2.520969922861924\n",
      "Accuracy: 0.08273809523809524\n",
      "Iteration 10 - cost: 2.2967025075529817\n",
      "Accuracy: 0.11949404761904762\n",
      "Iteration 20 - cost: 2.301952872765186\n",
      "Accuracy: 0.1006547619047619\n",
      "Iteration 30 - cost: 2.2102249839781956\n",
      "Accuracy: 0.1805952380952381\n",
      "Iteration 40 - cost: 2.084512917622927\n",
      "Accuracy: 0.19508928571428572\n",
      "Iteration 50 - cost: 2.2156452722688753\n",
      "Accuracy: 0.19392857142857142\n",
      "Iteration 60 - cost: 2.0755219268508878\n",
      "Accuracy: 0.20294642857142858\n",
      "Iteration 70 - cost: 2.0403550021849015\n",
      "Accuracy: 0.20258928571428572\n",
      "Iteration 80 - cost: 2.0494091134701717\n",
      "Accuracy: 0.204375\n",
      "Iteration 90 - cost: 2.0634971733423173\n",
      "Accuracy: 0.20285714285714285\n",
      "Iteration 100 - cost: 2.1120116483752205\n",
      "Accuracy: 0.20636904761904762\n",
      "Iteration 110 - cost: 2.2759323164641474\n",
      "Accuracy: 0.10071428571428571\n",
      "Iteration 120 - cost: 2.0344815396206033\n",
      "Accuracy: 0.2069047619047619\n",
      "Iteration 130 - cost: 2.0632574285971335\n",
      "Accuracy: 0.20586309523809523\n",
      "Iteration 140 - cost: 2.0260080265887255\n",
      "Accuracy: 0.20741071428571428\n",
      "Iteration 150 - cost: 2.0484530403884977\n",
      "Accuracy: 0.20726190476190476\n",
      "Iteration 160 - cost: 2.1745051436976213\n",
      "Accuracy: 0.10464285714285715\n",
      "Iteration 170 - cost: 2.056258606625023\n",
      "Accuracy: 0.2113392857142857\n",
      "Iteration 180 - cost: 2.050931731800665\n",
      "Accuracy: 0.17086309523809523\n",
      "Iteration 190 - cost: 2.052755396253781\n",
      "Accuracy: 0.21163690476190475\n",
      "Iteration 200 - cost: 2.1878675605596567\n",
      "Accuracy: 0.10651785714285714\n",
      "Iteration 210 - cost: 2.223994616304039\n",
      "Accuracy: 0.10401785714285715\n",
      "Iteration 220 - cost: 2.0537224459220083\n",
      "Accuracy: 0.21136904761904762\n",
      "Iteration 230 - cost: 2.040380246151917\n",
      "Accuracy: 0.2130654761904762\n",
      "Iteration 240 - cost: 2.210346576039127\n",
      "Accuracy: 0.20833333333333334\n",
      "0.21011904761904762\n",
      "{'layer_dims': [784, 15, 10], 'learning_rate': 0.01, 'num_iterations': 100}\n",
      "Iteration 0 - cost: 2.6514218572328145\n",
      "Accuracy: 0.10875\n",
      "Iteration 10 - cost: 2.2196895674183703\n",
      "Accuracy: 0.19642857142857142\n",
      "Iteration 20 - cost: 2.0834115398709514\n",
      "Accuracy: 0.20913690476190477\n",
      "Iteration 30 - cost: 2.302657357311536\n",
      "Accuracy: 0.0975595238095238\n",
      "Iteration 40 - cost: 2.302562839032919\n",
      "Accuracy: 0.11151785714285714\n",
      "Iteration 50 - cost: 2.302468486421869\n",
      "Accuracy: 0.11202380952380953\n",
      "Iteration 60 - cost: 2.3023353383556517\n",
      "Accuracy: 0.11279761904761905\n",
      "Iteration 70 - cost: 2.301868491026303\n",
      "Accuracy: 0.1155952380952381\n",
      "Iteration 80 - cost: 2.302420646472221\n",
      "Accuracy: 0.11160714285714286\n",
      "Iteration 90 - cost: 2.302375985782045\n",
      "Accuracy: 0.11166666666666666\n",
      "0.10952380952380952\n",
      "{'layer_dims': [784, 15, 10], 'learning_rate': 0.001, 'num_iterations': 250}\n",
      "Iteration 0 - cost: 2.397587696544365\n",
      "Accuracy: 0.11797619047619047\n",
      "Iteration 10 - cost: 1.921773223881556\n",
      "Accuracy: 0.3236607142857143\n",
      "Iteration 20 - cost: 1.4076241168634183\n",
      "Accuracy: 0.5838392857142857\n",
      "Iteration 30 - cost: 1.039670599502147\n",
      "Accuracy: 0.6881547619047619\n",
      "Iteration 40 - cost: 0.8402455536720896\n",
      "Accuracy: 0.7439285714285714\n",
      "Iteration 50 - cost: 0.7216449960601707\n",
      "Accuracy: 0.7806547619047619\n",
      "Iteration 60 - cost: 0.6438175689652301\n",
      "Accuracy: 0.8050892857142857\n",
      "Iteration 70 - cost: 0.5893083339460875\n",
      "Accuracy: 0.8214583333333333\n",
      "Iteration 80 - cost: 0.5492268145587234\n",
      "Accuracy: 0.8335714285714285\n",
      "Iteration 90 - cost: 0.518488555250362\n",
      "Accuracy: 0.843452380952381\n",
      "Iteration 100 - cost: 0.49411085536217236\n",
      "Accuracy: 0.8511011904761905\n",
      "Iteration 110 - cost: 0.4742572007947398\n",
      "Accuracy: 0.856845238095238\n",
      "Iteration 120 - cost: 0.45774839609795154\n",
      "Accuracy: 0.8617857142857143\n",
      "Iteration 130 - cost: 0.4437411425732277\n",
      "Accuracy: 0.8657738095238096\n",
      "Iteration 140 - cost: 0.43168723752786653\n",
      "Accuracy: 0.8702678571428571\n",
      "Iteration 150 - cost: 0.4211808261355676\n",
      "Accuracy: 0.8739880952380953\n",
      "Iteration 160 - cost: 0.4119695762968237\n",
      "Accuracy: 0.8770535714285714\n",
      "Iteration 170 - cost: 0.4039211856888204\n",
      "Accuracy: 0.8794642857142857\n",
      "Iteration 180 - cost: 0.39710285871601164\n",
      "Accuracy: 0.8816964285714286\n",
      "Iteration 190 - cost: 0.3919709844056886\n",
      "Accuracy: 0.8833630952380952\n",
      "Iteration 200 - cost: 0.38932663085858843\n",
      "Accuracy: 0.8843452380952381\n",
      "Iteration 210 - cost: 0.3873439475829276\n",
      "Accuracy: 0.8841964285714285\n",
      "Iteration 220 - cost: 0.3800468150376952\n",
      "Accuracy: 0.8863988095238096\n",
      "Iteration 230 - cost: 0.3708941582838971\n",
      "Accuracy: 0.8897321428571429\n",
      "Iteration 240 - cost: 0.3643813826185443\n",
      "Accuracy: 0.8920238095238096\n",
      "0.8928571428571429\n",
      "{'layer_dims': [784, 15, 10], 'learning_rate': 0.001, 'num_iterations': 100}\n",
      "Iteration 0 - cost: 2.5002685322374196\n",
      "Accuracy: 0.104375\n",
      "Iteration 10 - cost: 1.8684240799727803\n",
      "Accuracy: 0.428125\n",
      "Iteration 20 - cost: 1.231277300227469\n",
      "Accuracy: 0.658779761904762\n",
      "Iteration 30 - cost: 0.8978687927476867\n",
      "Accuracy: 0.7391369047619047\n",
      "Iteration 40 - cost: 0.7419252126849101\n",
      "Accuracy: 0.7802380952380953\n",
      "Iteration 50 - cost: 0.652619247902093\n",
      "Accuracy: 0.8051488095238095\n",
      "Iteration 60 - cost: 0.593901773336883\n",
      "Accuracy: 0.8228869047619047\n",
      "Iteration 70 - cost: 0.5517901913106308\n",
      "Accuracy: 0.835952380952381\n",
      "Iteration 80 - cost: 0.5198975758198277\n",
      "Accuracy: 0.8449702380952381\n",
      "Iteration 90 - cost: 0.4947868957724964\n",
      "Accuracy: 0.8532738095238095\n",
      "0.8592857142857143\n",
      "{'layer_dims': [784, 20, 15, 10], 'learning_rate': 0.01, 'num_iterations': 250}\n",
      "Iteration 0 - cost: 2.3036828889573746\n",
      "Accuracy: 0.0880654761904762\n",
      "Iteration 10 - cost: 2.2909774747454534\n",
      "Accuracy: 0.21330357142857143\n",
      "Iteration 20 - cost: 2.2466766800733455\n",
      "Accuracy: 0.2374404761904762\n",
      "Iteration 30 - cost: 1.976644512028206\n",
      "Accuracy: 0.34657738095238094\n",
      "Iteration 40 - cost: 1.3113899100370743\n",
      "Accuracy: 0.6106547619047619\n",
      "Iteration 50 - cost: 1.5051663249693634\n",
      "Accuracy: 0.4637202380952381\n",
      "Iteration 60 - cost: 1.5135287394282797\n",
      "Accuracy: 0.44532738095238095\n",
      "Iteration 70 - cost: 2.5673115359013177\n",
      "Accuracy: 0.3620238095238095\n",
      "Iteration 80 - cost: 1.125159687041315\n",
      "Accuracy: 0.5785416666666666\n",
      "Iteration 90 - cost: 0.8328965072227512\n",
      "Accuracy: 0.6960119047619048\n",
      "Iteration 100 - cost: 0.6897755116491339\n",
      "Accuracy: 0.7482440476190476\n",
      "Iteration 110 - cost: 0.5949153695453413\n",
      "Accuracy: 0.7926190476190477\n",
      "Iteration 120 - cost: 0.6949281935284155\n",
      "Accuracy: 0.7729464285714286\n",
      "Iteration 130 - cost: 0.449423285304554\n",
      "Accuracy: 0.8641666666666666\n",
      "Iteration 140 - cost: 0.4968823241210315\n",
      "Accuracy: 0.8405357142857143\n",
      "Iteration 150 - cost: 0.4288917557213344\n",
      "Accuracy: 0.8716964285714286\n",
      "Iteration 160 - cost: 0.3920959855864708\n",
      "Accuracy: 0.8838690476190476\n",
      "Iteration 170 - cost: 0.36874310677139\n",
      "Accuracy: 0.8916964285714286\n",
      "Iteration 180 - cost: 0.36775491487314105\n",
      "Accuracy: 0.8910714285714286\n",
      "Iteration 190 - cost: 0.4084232661262766\n",
      "Accuracy: 0.8742261904761904\n",
      "Iteration 200 - cost: 0.32942588166315173\n",
      "Accuracy: 0.903422619047619\n",
      "Iteration 210 - cost: 0.31778670202187875\n",
      "Accuracy: 0.906875\n",
      "Iteration 220 - cost: 0.31517713441432876\n",
      "Accuracy: 0.9075\n",
      "Iteration 230 - cost: 0.33754234252156157\n",
      "Accuracy: 0.8991964285714286\n",
      "Iteration 240 - cost: 0.2947620702629473\n",
      "Accuracy: 0.9132738095238095\n",
      "0.9157142857142857\n",
      "{'layer_dims': [784, 20, 15, 10], 'learning_rate': 0.01, 'num_iterations': 100}\n",
      "Iteration 0 - cost: 2.3011387039710653\n",
      "Accuracy: 0.13479166666666667\n",
      "Iteration 10 - cost: 2.2890584818367863\n",
      "Accuracy: 0.1936607142857143\n",
      "Iteration 20 - cost: 2.238341531303503\n",
      "Accuracy: 0.17827380952380953\n",
      "Iteration 30 - cost: 1.9925166228017943\n",
      "Accuracy: 0.21476190476190476\n",
      "Iteration 40 - cost: 1.569225659947655\n",
      "Accuracy: 0.39\n",
      "Iteration 50 - cost: 1.3964178563164429\n",
      "Accuracy: 0.4544642857142857\n",
      "Iteration 60 - cost: 1.1581578758687394\n",
      "Accuracy: 0.6267857142857143\n",
      "Iteration 70 - cost: 1.2174832238271498\n",
      "Accuracy: 0.6001785714285715\n",
      "Iteration 80 - cost: 0.8476284399774966\n",
      "Accuracy: 0.6711607142857143\n",
      "Iteration 90 - cost: 0.6542852273747515\n",
      "Accuracy: 0.8050892857142857\n",
      "0.6236904761904762\n",
      "{'layer_dims': [784, 20, 15, 10], 'learning_rate': 0.001, 'num_iterations': 250}\n",
      "Iteration 0 - cost: 2.3058674585973358\n",
      "Accuracy: 0.09375\n",
      "Iteration 10 - cost: 2.3039833829804364\n",
      "Accuracy: 0.10717261904761904\n",
      "Iteration 20 - cost: 2.3022733315095993\n",
      "Accuracy: 0.11779761904761905\n",
      "Iteration 30 - cost: 2.3006664169859405\n",
      "Accuracy: 0.12660714285714286\n",
      "Iteration 40 - cost: 2.2991241105145437\n",
      "Accuracy: 0.13327380952380952\n",
      "Iteration 50 - cost: 2.2976080092461437\n",
      "Accuracy: 0.13732142857142857\n",
      "Iteration 60 - cost: 2.296080756752949\n",
      "Accuracy: 0.13958333333333334\n",
      "Iteration 70 - cost: 2.2945079528496155\n",
      "Accuracy: 0.1438095238095238\n",
      "Iteration 80 - cost: 2.29284521076139\n",
      "Accuracy: 0.15071428571428572\n",
      "Iteration 90 - cost: 2.2910359350519505\n",
      "Accuracy: 0.15824404761904762\n",
      "Iteration 100 - cost: 2.2890153446287074\n",
      "Accuracy: 0.16904761904761906\n",
      "Iteration 110 - cost: 2.2867157034497025\n",
      "Accuracy: 0.17991071428571428\n",
      "Iteration 120 - cost: 2.2840613636835623\n",
      "Accuracy: 0.18916666666666668\n",
      "Iteration 130 - cost: 2.2809611906946072\n",
      "Accuracy: 0.19833333333333333\n",
      "Iteration 140 - cost: 2.277301399609888\n",
      "Accuracy: 0.20851190476190476\n",
      "Iteration 150 - cost: 2.272937378840052\n",
      "Accuracy: 0.21675595238095238\n",
      "Iteration 160 - cost: 2.267687882460893\n",
      "Accuracy: 0.2274107142857143\n",
      "Iteration 170 - cost: 2.2613159615244034\n",
      "Accuracy: 0.23991071428571428\n",
      "Iteration 180 - cost: 2.253534988417111\n",
      "Accuracy: 0.25125\n",
      "Iteration 190 - cost: 2.244004422772645\n",
      "Accuracy: 0.26104166666666667\n",
      "Iteration 200 - cost: 2.2322737921530593\n",
      "Accuracy: 0.27035714285714285\n",
      "Iteration 210 - cost: 2.217738847352494\n",
      "Accuracy: 0.2764583333333333\n",
      "Iteration 220 - cost: 2.1996539466497995\n",
      "Accuracy: 0.2794047619047619\n",
      "Iteration 230 - cost: 2.177120771550717\n",
      "Accuracy: 0.2808333333333333\n",
      "Iteration 240 - cost: 2.149093992888093\n",
      "Accuracy: 0.27910714285714283\n",
      "0.27785714285714286\n",
      "{'layer_dims': [784, 20, 15, 10], 'learning_rate': 0.001, 'num_iterations': 100}\n",
      "Iteration 0 - cost: 2.299788704685603\n",
      "Accuracy: 0.10747023809523809\n",
      "Iteration 10 - cost: 2.298979182175948\n",
      "Accuracy: 0.11005952380952382\n",
      "Iteration 20 - cost: 2.2981006435881066\n",
      "Accuracy: 0.11220238095238096\n",
      "Iteration 30 - cost: 2.2971329370258897\n",
      "Accuracy: 0.11354166666666667\n",
      "Iteration 40 - cost: 2.296052559922582\n",
      "Accuracy: 0.11383928571428571\n",
      "Iteration 50 - cost: 2.2948274637073878\n",
      "Accuracy: 0.11386904761904762\n",
      "Iteration 60 - cost: 2.2934205129672587\n",
      "Accuracy: 0.11300595238095239\n",
      "Iteration 70 - cost: 2.291786527154943\n",
      "Accuracy: 0.11136904761904762\n",
      "Iteration 80 - cost: 2.289868068224005\n",
      "Accuracy: 0.10961309523809523\n",
      "Iteration 90 - cost: 2.287597980224764\n",
      "Accuracy: 0.108125\n",
      "0.10107142857142858\n",
      "{'layer_dims': [784, 50, 25, 15, 10], 'learning_rate': 0.01, 'num_iterations': 250}\n",
      "Iteration 0 - cost: 2.3026330182228136\n",
      "Accuracy: 0.10163690476190476\n",
      "Iteration 10 - cost: 2.302568629796555\n",
      "Accuracy: 0.13922619047619048\n",
      "Iteration 20 - cost: 2.302505757301805\n",
      "Accuracy: 0.1144047619047619\n",
      "Iteration 30 - cost: 2.3024438379928256\n",
      "Accuracy: 0.11208333333333333\n",
      "Iteration 40 - cost: 2.3023824245561437\n",
      "Accuracy: 0.11202380952380953\n",
      "Iteration 50 - cost: 2.302321007741564\n",
      "Accuracy: 0.11202380952380953\n",
      "Iteration 60 - cost: 2.302259349024906\n",
      "Accuracy: 0.11202380952380953\n",
      "Iteration 70 - cost: 2.302196921993007\n",
      "Accuracy: 0.11202380952380953\n",
      "Iteration 80 - cost: 2.3021332279939206\n",
      "Accuracy: 0.11202380952380953\n",
      "Iteration 90 - cost: 2.3020677629151205\n",
      "Accuracy: 0.11202380952380953\n",
      "Iteration 100 - cost: 2.3019999674710983\n",
      "Accuracy: 0.11202380952380953\n",
      "Iteration 110 - cost: 2.3019292007466445\n",
      "Accuracy: 0.11202380952380953\n",
      "Iteration 120 - cost: 2.3018548224335498\n",
      "Accuracy: 0.11202380952380953\n",
      "Iteration 130 - cost: 2.301776083207627\n",
      "Accuracy: 0.11202380952380953\n",
      "Iteration 140 - cost: 2.3016919798172117\n",
      "Accuracy: 0.11202380952380953\n",
      "Iteration 150 - cost: 2.301601347607982\n",
      "Accuracy: 0.11202380952380953\n",
      "Iteration 160 - cost: 2.3015026123453177\n",
      "Accuracy: 0.11202380952380953\n",
      "Iteration 170 - cost: 2.3013940768061607\n",
      "Accuracy: 0.11202380952380953\n",
      "Iteration 180 - cost: 2.3012736462900603\n",
      "Accuracy: 0.11202380952380953\n",
      "Iteration 190 - cost: 2.301138476624154\n",
      "Accuracy: 0.11202380952380953\n",
      "Iteration 200 - cost: 2.300984866721137\n",
      "Accuracy: 0.11202380952380953\n",
      "Iteration 210 - cost: 2.3008083203842813\n",
      "Accuracy: 0.11202380952380953\n",
      "Iteration 220 - cost: 2.3006031380974856\n",
      "Accuracy: 0.11202380952380953\n",
      "Iteration 230 - cost: 2.3003614756088173\n",
      "Accuracy: 0.11202380952380953\n",
      "Iteration 240 - cost: 2.3000723780651513\n",
      "Accuracy: 0.11288690476190476\n",
      "0.11857142857142858\n",
      "{'layer_dims': [784, 50, 25, 15, 10], 'learning_rate': 0.01, 'num_iterations': 100}\n",
      "Iteration 0 - cost: 2.302553295307062\n",
      "Accuracy: 0.10988095238095238\n",
      "Iteration 10 - cost: 2.3025018600104947\n",
      "Accuracy: 0.12369047619047618\n",
      "Iteration 20 - cost: 2.3024506274496828\n",
      "Accuracy: 0.10452380952380952\n",
      "Iteration 30 - cost: 2.3023992697687232\n",
      "Accuracy: 0.11047619047619048\n",
      "Iteration 40 - cost: 2.3023474294253212\n",
      "Accuracy: 0.1119345238095238\n",
      "Iteration 50 - cost: 2.3022949557395203\n",
      "Accuracy: 0.11202380952380953\n",
      "Iteration 60 - cost: 2.3022416417004394\n",
      "Accuracy: 0.11202380952380953\n",
      "Iteration 70 - cost: 2.3021871750023144\n",
      "Accuracy: 0.11202380952380953\n",
      "Iteration 80 - cost: 2.302131342676367\n",
      "Accuracy: 0.11202380952380953\n",
      "Iteration 90 - cost: 2.3020737134907145\n",
      "Accuracy: 0.11202380952380953\n",
      "0.10952380952380952\n",
      "{'layer_dims': [784, 50, 25, 15, 10], 'learning_rate': 0.001, 'num_iterations': 250}\n",
      "Iteration 0 - cost: 2.3024841232136684\n",
      "Accuracy: 0.09815476190476191\n",
      "Iteration 10 - cost: 2.3024778030772177\n",
      "Accuracy: 0.10523809523809524\n",
      "Iteration 20 - cost: 2.3024714695540185\n",
      "Accuracy: 0.11726190476190476\n",
      "Iteration 30 - cost: 2.302465123298179\n",
      "Accuracy: 0.1280654761904762\n",
      "Iteration 40 - cost: 2.3024587617997407\n",
      "Accuracy: 0.13738095238095238\n",
      "Iteration 50 - cost: 2.302452384274317\n",
      "Accuracy: 0.14583333333333334\n",
      "Iteration 60 - cost: 2.302445992499347\n",
      "Accuracy: 0.1537202380952381\n",
      "Iteration 70 - cost: 2.302439588237139\n",
      "Accuracy: 0.1595238095238095\n",
      "Iteration 80 - cost: 2.3024331694407034\n",
      "Accuracy: 0.1630952380952381\n",
      "Iteration 90 - cost: 2.3024267365783087\n",
      "Accuracy: 0.1656845238095238\n",
      "Iteration 100 - cost: 2.3024202855781484\n",
      "Accuracy: 0.16654761904761906\n",
      "Iteration 110 - cost: 2.3024138171970407\n",
      "Accuracy: 0.1643452380952381\n",
      "Iteration 120 - cost: 2.3024073334034094\n",
      "Accuracy: 0.1617559523809524\n",
      "Iteration 130 - cost: 2.30240083566652\n",
      "Accuracy: 0.156875\n",
      "Iteration 140 - cost: 2.302394323935194\n",
      "Accuracy: 0.15202380952380953\n",
      "Iteration 150 - cost: 2.302387796659656\n",
      "Accuracy: 0.1462202380952381\n",
      "Iteration 160 - cost: 2.3023812498317353\n",
      "Accuracy: 0.14214285714285715\n",
      "Iteration 170 - cost: 2.3023746822966196\n",
      "Accuracy: 0.1380952380952381\n",
      "Iteration 180 - cost: 2.3023680977626504\n",
      "Accuracy: 0.13428571428571429\n",
      "Iteration 190 - cost: 2.302361495071634\n",
      "Accuracy: 0.13080357142857144\n",
      "Iteration 200 - cost: 2.302354870719486\n",
      "Accuracy: 0.1274404761904762\n",
      "Iteration 210 - cost: 2.3023482263520623\n",
      "Accuracy: 0.12449404761904762\n",
      "Iteration 220 - cost: 2.3023415616585376\n",
      "Accuracy: 0.12229166666666667\n",
      "Iteration 230 - cost: 2.302334874337907\n",
      "Accuracy: 0.12\n",
      "Iteration 240 - cost: 2.30232816444011\n",
      "Accuracy: 0.11803571428571429\n",
      "0.11535714285714285\n",
      "{'layer_dims': [784, 50, 25, 15, 10], 'learning_rate': 0.001, 'num_iterations': 100}\n",
      "Iteration 0 - cost: 2.302435225354356\n",
      "Accuracy: 0.13806547619047618\n",
      "Iteration 10 - cost: 2.302429429712311\n",
      "Accuracy: 0.140625\n",
      "Iteration 20 - cost: 2.302423615479875\n",
      "Accuracy: 0.15229166666666666\n",
      "Iteration 30 - cost: 2.302417781064191\n",
      "Accuracy: 0.15976190476190477\n",
      "Iteration 40 - cost: 2.302411923387814\n",
      "Accuracy: 0.1667559523809524\n",
      "Iteration 50 - cost: 2.302406047323722\n",
      "Accuracy: 0.17267857142857143\n",
      "Iteration 60 - cost: 2.3024001524895232\n",
      "Accuracy: 0.1794047619047619\n",
      "Iteration 70 - cost: 2.3023942376296445\n",
      "Accuracy: 0.18392857142857144\n",
      "Iteration 80 - cost: 2.302388299628757\n",
      "Accuracy: 0.18764880952380952\n",
      "Iteration 90 - cost: 2.302382343778682\n",
      "Accuracy: 0.1895238095238095\n",
      "0.18202380952380953\n"
     ]
    }
   ],
   "source": [
    "import itertools\n",
    "\n",
    "keys, values = zip(*parameter_grid.items())\n",
    "results = []\n",
    "for parameter_combo in itertools.product(*values):\n",
    "    \n",
    "    # create parameter combination dictionary\n",
    "    params = dict(zip(keys, parameter_combo))\n",
    "    print(params)\n",
    "    \n",
    "    # train model\n",
    "    model_params = l_layer_model(X_train, \n",
    "                                 y_train,\n",
    "                                 layers_dim=params['layer_dims'],\n",
    "                                 learning_rate=params['learning_rate'],\n",
    "                                 num_iterations=params['num_iterations'],\n",
    "                                 print_cost=True)\n",
    "    \n",
    "    \n",
    "    # make predictions on the test set\n",
    "    preds = predict(X_val, model_params)\n",
    "    \n",
    "    # get accuracy\n",
    "    accuracy = compute_accuracy(preds, y_val)\n",
    "    print(accuracy)\n",
    "    \n",
    "    # save results\n",
    "    result = [params, model_params, accuracy]\n",
    "    results.append(result)"
   ]
  },
  {
   "cell_type": "code",
   "execution_count": 32,
   "id": "bf128ec6",
   "metadata": {
    "execution": {
     "iopub.execute_input": "2024-06-27T20:18:18.074997Z",
     "iopub.status.busy": "2024-06-27T20:18:18.074666Z",
     "iopub.status.idle": "2024-06-27T20:18:18.079364Z",
     "shell.execute_reply": "2024-06-27T20:18:18.078475Z"
    },
    "papermill": {
     "duration": 0.069742,
     "end_time": "2024-06-27T20:18:18.081224",
     "exception": false,
     "start_time": "2024-06-27T20:18:18.011482",
     "status": "completed"
    },
    "tags": []
   },
   "outputs": [],
   "source": [
    "# find best accuracy\n",
    "accuracies = [result[2] for result in results]\n",
    "best_accuracy_index = np.argmax(accuracies)\n",
    "\n",
    "# find best params\n",
    "best_params = results[best_accuracy_index][1]"
   ]
  },
  {
   "cell_type": "code",
   "execution_count": 33,
   "id": "bb3755e3",
   "metadata": {
    "execution": {
     "iopub.execute_input": "2024-06-27T20:18:18.141555Z",
     "iopub.status.busy": "2024-06-27T20:18:18.140991Z",
     "iopub.status.idle": "2024-06-27T20:18:18.302089Z",
     "shell.execute_reply": "2024-06-27T20:18:18.300694Z"
    },
    "papermill": {
     "duration": 0.195061,
     "end_time": "2024-06-27T20:18:18.305803",
     "exception": false,
     "start_time": "2024-06-27T20:18:18.110742",
     "status": "completed"
    },
    "tags": []
   },
   "outputs": [],
   "source": [
    "test_preds = predict(test, best_params)\n",
    "test_preds\n",
    "\n",
    "submission = pd.DataFrame(data=\n",
    "                          {'ImageId':np.arange(1, test.shape[1]+1),\n",
    "                          'Label':test_preds})\n",
    "\n",
    "submission.to_csv('submission.csv', index=False)"
   ]
  }
 ],
 "metadata": {
  "kaggle": {
   "accelerator": "gpu",
   "dataSources": [
    {
     "databundleVersionId": 861823,
     "sourceId": 3004,
     "sourceType": "competition"
    }
   ],
   "dockerImageVersionId": 30664,
   "isGpuEnabled": true,
   "isInternetEnabled": true,
   "language": "python",
   "sourceType": "notebook"
  },
  "kernelspec": {
   "display_name": "Python 3",
   "language": "python",
   "name": "python3"
  },
  "language_info": {
   "codemirror_mode": {
    "name": "ipython",
    "version": 3
   },
   "file_extension": ".py",
   "mimetype": "text/x-python",
   "name": "python",
   "nbconvert_exporter": "python",
   "pygments_lexer": "ipython3",
   "version": "3.10.13"
  },
  "papermill": {
   "default_parameters": {},
   "duration": 1027.098161,
   "end_time": "2024-06-27T20:18:18.784607",
   "environment_variables": {},
   "exception": null,
   "input_path": "__notebook__.ipynb",
   "output_path": "__notebook__.ipynb",
   "parameters": {},
   "start_time": "2024-06-27T20:01:11.686446",
   "version": "2.5.0"
  }
 },
 "nbformat": 4,
 "nbformat_minor": 5
}

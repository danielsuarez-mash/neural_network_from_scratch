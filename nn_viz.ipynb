{
 "cells": [
  {
   "cell_type": "code",
   "execution_count": 12,
   "metadata": {},
   "outputs": [],
   "source": [
    "from pyvis.network import Network\n",
    "import networkx as nx"
   ]
  },
  {
   "cell_type": "code",
   "execution_count": 13,
   "metadata": {},
   "outputs": [],
   "source": [
    "G = nx.DiGraph()"
   ]
  },
  {
   "cell_type": "code",
   "execution_count": 14,
   "metadata": {
    "collapsed": true,
    "jupyter": {
     "outputs_hidden": true
    },
    "scrolled": true
   },
   "outputs": [
    {
     "name": "stdout",
     "output_type": "stream",
     "text": [
      "node: 0_0\n",
      "position 0 -675.0\n",
      "node: 0_1\n",
      "position 0 -525.0\n",
      "node: 0_2\n",
      "position 0 -375.0\n",
      "node: 0_3\n",
      "position 0 -225.0\n",
      "node: 0_4\n",
      "position 0 -75.0\n",
      "node: 0_5\n",
      "position 0 75.0\n",
      "node: 0_6\n",
      "position 0 225.0\n",
      "node: 0_7\n",
      "position 0 375.0\n",
      "node: 0_8\n",
      "position 0 525.0\n",
      "node: 0_9\n",
      "position 0 675.0\n",
      "node: 1_0\n",
      "position 400 -150.0\n",
      "node: 1_1\n",
      "position 400 -75.0\n",
      "node: 1_2\n",
      "position 400 0.0\n",
      "node: 1_3\n",
      "position 400 75.0\n",
      "node: 1_4\n",
      "position 400 150.0\n",
      "node: 2_0\n",
      "position 800 0.0\n"
     ]
    }
   ],
   "source": [
    "layer_dims = [10, 5, 1]\n",
    "\n",
    "x_distance = 400 # distance between layers\n",
    "base_y_distance = 150 # distance between nodes\n",
    "\n",
    "# add nodes\n",
    "for layer_no in range(len(layer_dims)): # cycle through layers\n",
    "    # y_distance = base_y_distance/(layer_no + 1)\n",
    "    y_distance = base_y_distance * (1 - layer_no / (len(layer_dims) - 1))\n",
    "    # print('layer:', layer_no)\n",
    "    # print('y_distance:', y_distance)\n",
    "    for node_no in range(layer_dims[layer_no]): # cycle through each node in each layer\n",
    "        \n",
    "        # node_id format\n",
    "        node_id = '{}_{}'.format(layer_no, node_no)\n",
    "        \n",
    "        # spacing\n",
    "        x_pos = layer_no * x_distance\n",
    "        # y_pos = node_no * y_distance\n",
    "        y_pos = node_no * y_distance - (layer_dims[layer_no] - 1) * y_distance / 2\n",
    "\n",
    "        print('node:', node_id)\n",
    "        print('position', x_pos, y_pos)\n",
    "        \n",
    "        G.add_node(node_id, x=x_pos, y=y_pos, physics=False)\n",
    "        G.nodes[node_id]['title']='Weight:' + str(5)\n",
    "\n",
    "# add edges\n",
    "for layer_no in range(len(layer_dims)): # cycle through layers\n",
    "    for node_from in range(layer_dims[layer_no]): # cycle through each node in each layer\n",
    "        if layer_no != (len(layer_dims)-1): # check if we are on the last layer\n",
    "            for node_to in range(layer_dims[layer_no+1]): # cycle through edges for each node\n",
    "    \n",
    "                G.add_edge('{}_{}'.format(layer_no, node_from), '{}_{}'.format(layer_no+1, node_to))"
   ]
  },
  {
   "cell_type": "code",
   "execution_count": 15,
   "metadata": {},
   "outputs": [],
   "source": [
    "# Create a Pyvis network\n",
    "net = Network(height='600px', width='700px', directed=True, notebook=True, cdn_resources='in_line')"
   ]
  },
  {
   "cell_type": "code",
   "execution_count": 16,
   "metadata": {},
   "outputs": [],
   "source": [
    "# import networkx graph\n",
    "net.from_nx(G)"
   ]
  },
  {
   "cell_type": "code",
   "execution_count": 17,
   "metadata": {
    "jupyter": {
     "source_hidden": true
    }
   },
   "outputs": [],
   "source": [
    "# # position nodes correctly\n",
    "# for layer_no in range(len(layer_dims)): # cycle through layers\n",
    "#     print(layer_no)\n",
    "#     for node_no in range(layer_dims[layer_no]): # cycle through each node in each layer\n",
    "#         print(node_no)\n",
    "#         # node_id format\n",
    "#         node_id = '{}_{}'.format(layer_no, node_no)\n",
    "#         print(node_id)\n",
    "        \n",
    "#         # positioning\n",
    "#         x_pos = layer_no * x_distance\n",
    "#         y_pos = node_no * y_distance\n",
    "        \n",
    "        \n",
    "#         net.get_node(node_id)['x'] = x_pos\n",
    "#         net.get_node(node_id)['y'] = y_pos"
   ]
  },
  {
   "cell_type": "code",
   "execution_count": 18,
   "metadata": {
    "scrolled": true
   },
   "outputs": [
    {
     "name": "stdout",
     "output_type": "stream",
     "text": [
      "nn_graph.html\n"
     ]
    },
    {
     "data": {
      "text/html": [
       "\n",
       "        <iframe\n",
       "            width=\"700px\"\n",
       "            height=\"600px\"\n",
       "            src=\"nn_graph.html\"\n",
       "            frameborder=\"0\"\n",
       "            allowfullscreen\n",
       "            \n",
       "        ></iframe>\n",
       "        "
      ],
      "text/plain": [
       "<IPython.lib.display.IFrame at 0x1254e7500>"
      ]
     },
     "execution_count": 18,
     "metadata": {},
     "output_type": "execute_result"
    }
   ],
   "source": [
    "net.show('nn_graph.html')"
   ]
  },
  {
   "cell_type": "markdown",
   "metadata": {},
   "source": [
    "# Using a real NN"
   ]
  },
  {
   "cell_type": "code",
   "execution_count": 102,
   "metadata": {},
   "outputs": [],
   "source": [
    "import streamlit as st\n",
    "import numpy as np\n",
    "from load_data import DataLoader\n",
    "from initialise_params import InitialiseParameters\n",
    "from forward_prop import ForwardProp\n",
    "from compute_cost import Cost\n",
    "from backward_prop import BackwardProp\n",
    "from update_params import ParameterUpdater"
   ]
  },
  {
   "cell_type": "code",
   "execution_count": 103,
   "metadata": {},
   "outputs": [],
   "source": [
    "# load and prepare data\n",
    "X_train, y_train, test = DataLoader(\"data/\").prepare_data()"
   ]
  },
  {
   "cell_type": "code",
   "execution_count": 104,
   "metadata": {},
   "outputs": [],
   "source": [
    "layer_dims = [5, 3, 1]\n",
    "\n",
    "# get parameters\n",
    "parameters = InitialiseParameters(layer_dims).initialise_parameters()"
   ]
  },
  {
   "cell_type": "code",
   "execution_count": 105,
   "metadata": {},
   "outputs": [
    {
     "data": {
      "text/plain": [
       "dict_keys(['W1', 'b1', 'W2', 'b2'])"
      ]
     },
     "execution_count": 105,
     "metadata": {},
     "output_type": "execute_result"
    }
   ],
   "source": [
    "parameters.keys()"
   ]
  },
  {
   "cell_type": "code",
   "execution_count": 106,
   "metadata": {},
   "outputs": [],
   "source": [
    "keys = list(parameters.keys())"
   ]
  },
  {
   "cell_type": "code",
   "execution_count": 107,
   "metadata": {},
   "outputs": [
    {
     "data": {
      "text/plain": [
       "3"
      ]
     },
     "execution_count": 107,
     "metadata": {},
     "output_type": "execute_result"
    }
   ],
   "source": [
    "len(parameters['b1'])"
   ]
  },
  {
   "cell_type": "code",
   "execution_count": 108,
   "metadata": {},
   "outputs": [],
   "source": [
    "layer_weights = parameters[keys[layer_no]]"
   ]
  },
  {
   "cell_type": "code",
   "execution_count": 109,
   "metadata": {},
   "outputs": [
    {
     "data": {
      "text/plain": [
       "(1, 3)"
      ]
     },
     "execution_count": 109,
     "metadata": {},
     "output_type": "execute_result"
    }
   ],
   "source": [
    "layer_weights.shape"
   ]
  },
  {
   "cell_type": "code",
   "execution_count": 110,
   "metadata": {},
   "outputs": [],
   "source": [
    "G = nx.DiGraph()"
   ]
  },
  {
   "cell_type": "code",
   "execution_count": 111,
   "metadata": {},
   "outputs": [
    {
     "data": {
      "text/plain": [
       "array([[-0.00640623, -0.00721926, -0.01269612]])"
      ]
     },
     "execution_count": 111,
     "metadata": {},
     "output_type": "execute_result"
    }
   ],
   "source": [
    "layer_weights"
   ]
  },
  {
   "cell_type": "code",
   "execution_count": 117,
   "metadata": {
    "scrolled": true
   },
   "outputs": [
    {
     "name": "stdout",
     "output_type": "stream",
     "text": [
      "0\n",
      "node: 0_0\n",
      "position 0 -300.0\n",
      "node: 0_1\n",
      "position 0 -150.0\n",
      "node: 0_2\n",
      "position 0 0.0\n",
      "node: 0_3\n",
      "position 0 150.0\n",
      "node: 0_4\n",
      "position 0 300.0\n",
      "1\n",
      "node: 1_0\n",
      "position 400 -75.0\n",
      "node: 1_1\n",
      "position 400 0.0\n",
      "node: 1_2\n",
      "position 400 75.0\n",
      "2\n",
      "node: 2_0\n",
      "position 800 0.0\n"
     ]
    }
   ],
   "source": [
    "layer_dims = [5, 3, 1]\n",
    "\n",
    "x_distance = 400 # distance between layers\n",
    "base_y_distance = 150 # distance between nodes\n",
    "\n",
    "# add nodes\n",
    "for layer_no in range(len(layer_dims)): # cycle through layers\n",
    "    \n",
    "    # y_distance = base_y_distance/(layer_no + 1)\n",
    "    print(layer_no)\n",
    "\n",
    "    # get weights and biases for hidden layers\n",
    "    if layer_no!=0:\n",
    "        keys = list(parameters.keys())\n",
    "        layer_weights = parameters[keys[layer_no-1]]\n",
    "        layer_bias = parameters[keys[layer_no]]\n",
    "    \n",
    "    y_distance = base_y_distance * (1 - layer_no / (len(layer_dims) - 1))\n",
    "    \n",
    "    # print('layer:', layer_no)\n",
    "    # print('y_distance:', y_distance)\n",
    "    \n",
    "    for node_no in range(min(layer_dims[layer_no], 30)): # cycle through each node in each layer (max nodes is 100)\n",
    "        \n",
    "        # node_id format\n",
    "        node_id = '{}_{}'.format(layer_no, node_no)\n",
    "        \n",
    "        # spacing\n",
    "        x_pos = layer_no * x_distance\n",
    "        # y_pos = node_no * y_distance\n",
    "        y_pos = node_no * y_distance - (layer_dims[layer_no] - 1) * y_distance / 2\n",
    "\n",
    "        print('node:', node_id)\n",
    "        print('position', x_pos, y_pos)\n",
    "        \n",
    "        G.add_node(node_id, x=x_pos, y=y_pos, physics=False)\n",
    "\n",
    "        # add title to node\n",
    "        if layer_no!=0:\n",
    "            G.nodes[node_id]['title']=\"Weight:\" + str(layer_weights[node_no]) + \"\\n\" + \"Bias:\" + str(layer_bias[node_no])\n",
    "        else:\n",
    "            G.nodes[node_id]['title']=\"Input node:\" + str(node_no)\n",
    "# add edges\n",
    "for layer_no in range(len(layer_dims)): # cycle through layers\n",
    "    for node_from in range(min(layer_dims[layer_no], 30)): # cycle through each node in each layer\n",
    "        if layer_no != (len(layer_dims)-1): # check if we are on the last layer\n",
    "            for node_to in range(min(layer_dims[layer_no+1], 30)): # cycle through edges for each node\n",
    "    \n",
    "                G.add_edge('{}_{}'.format(layer_no, node_from), '{}_{}'.format(layer_no+1, node_to))"
   ]
  },
  {
   "cell_type": "code",
   "execution_count": 118,
   "metadata": {},
   "outputs": [],
   "source": [
    "# Create a Pyvis network\n",
    "net = Network(height='600px', width='700px', directed=True, notebook=True, cdn_resources='in_line')"
   ]
  },
  {
   "cell_type": "code",
   "execution_count": 119,
   "metadata": {},
   "outputs": [],
   "source": [
    "# import networkx graph\n",
    "net.from_nx(G)"
   ]
  },
  {
   "cell_type": "code",
   "execution_count": 120,
   "metadata": {
    "jupyter": {
     "source_hidden": true
    }
   },
   "outputs": [],
   "source": [
    "# # position nodes correctly\n",
    "# for layer_no in range(len(layer_dims)): # cycle through layers\n",
    "#     print(layer_no)\n",
    "#     for node_no in range(layer_dims[layer_no]): # cycle through each node in each layer\n",
    "#         print(node_no)\n",
    "#         # node_id format\n",
    "#         node_id = '{}_{}'.format(layer_no, node_no)\n",
    "#         print(node_id)\n",
    "        \n",
    "#         # positioning\n",
    "#         x_pos = layer_no * x_distance\n",
    "#         y_pos = node_no * y_distance\n",
    "        \n",
    "        \n",
    "#         net.get_node(node_id)['x'] = x_pos\n",
    "#         net.get_node(node_id)['y'] = y_pos"
   ]
  },
  {
   "cell_type": "code",
   "execution_count": 121,
   "metadata": {},
   "outputs": [
    {
     "name": "stdout",
     "output_type": "stream",
     "text": [
      "nn_graph.html\n"
     ]
    },
    {
     "data": {
      "text/html": [
       "\n",
       "        <iframe\n",
       "            width=\"700px\"\n",
       "            height=\"600px\"\n",
       "            src=\"nn_graph.html\"\n",
       "            frameborder=\"0\"\n",
       "            allowfullscreen\n",
       "            \n",
       "        ></iframe>\n",
       "        "
      ],
      "text/plain": [
       "<IPython.lib.display.IFrame at 0x13510b800>"
      ]
     },
     "execution_count": 121,
     "metadata": {},
     "output_type": "execute_result"
    }
   ],
   "source": [
    "net.show('nn_graph.html')"
   ]
  },
  {
   "cell_type": "code",
   "execution_count": null,
   "metadata": {},
   "outputs": [],
   "source": []
  }
 ],
 "metadata": {
  "kernelspec": {
   "display_name": "Python 3 (ipykernel)",
   "language": "python",
   "name": "python3"
  },
  "language_info": {
   "codemirror_mode": {
    "name": "ipython",
    "version": 3
   },
   "file_extension": ".py",
   "mimetype": "text/x-python",
   "name": "python",
   "nbconvert_exporter": "python",
   "pygments_lexer": "ipython3",
   "version": "3.12.6"
  }
 },
 "nbformat": 4,
 "nbformat_minor": 4
}
